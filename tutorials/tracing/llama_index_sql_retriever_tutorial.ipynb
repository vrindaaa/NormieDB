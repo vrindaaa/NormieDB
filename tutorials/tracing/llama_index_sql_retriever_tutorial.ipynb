{
  "cells": [
    {
      "cell_type": "markdown",
      "metadata": {
        "id": "A0b3F5Xgo-ws"
      },
      "source": [
        "\n",
        "<h1 align=\"center\">SQL Router Query Engine Example</h1>\n"
      ]
    },
    {
      "cell_type": "code",
      "execution_count": null,
      "metadata": {
        "id": "puakZcI6o-wu"
      },
      "outputs": [],
      "source": [
        "!pip install \"arize-phoenix[evals,llama-index]\" \"openai>=1\" 'httpx<0.28' gcsfs nest-asyncio \"llama-index-readers-wikipedia\" \"sqlalchemy\" wikipedia"
      ]
    },
    {
      "cell_type": "code",
      "execution_count": null,
      "metadata": {
        "id": "68X-3_3to-wu"
      },
      "outputs": [],
      "source": [
        "import os\n",
        "from getpass import getpass\n",
        "\n",
        "import openai\n",
        "import pandas as pd\n",
        "import wikipedia\n",
        "from llama_index.core import Document, Settings\n",
        "from llama_index.core.indices import VectorStoreIndex\n",
        "from llama_index.core.query_engine import NLSQLTableQueryEngine, RouterQueryEngine\n",
        "from llama_index.core.selectors import LLMSingleSelector\n",
        "from llama_index.core.tools import QueryEngineTool\n",
        "from llama_index.core.utilities.sql_wrapper import SQLDatabase\n",
        "from llama_index.llms.openai import OpenAI\n",
        "from sqlalchemy import (\n",
        "    create_engine,\n",
        "    text,\n",
        ")\n",
        "\n",
        "import phoenix as px\n",
        "\n",
        "pd.set_option(\"display.max_colwidth\", 1000)"
      ]
    },
    {
      "cell_type": "code",
      "execution_count": null,
      "metadata": {
        "id": "gyw0IHaIo-wv"
      },
      "outputs": [],
      "source": [
        "(session := px.launch_app()).view()"
      ]
    },
    {
      "cell_type": "code",
      "execution_count": null,
      "metadata": {
        "id": "yM5N76uho-wv"
      },
      "outputs": [],
      "source": [
        "from openinference.instrumentation.llama_index import LlamaIndexInstrumentor\n",
        "\n",
        "from phoenix.otel import register\n",
        "\n",
        "tracer_provider = register(endpoint=\"http://127.0.0.1:6006/v1/traces\")\n",
        "LlamaIndexInstrumentor().instrument(skip_dep_check=True, tracer_provider=tracer_provider)"
      ]
    },
    {
      "cell_type": "markdown",
      "metadata": {
        "id": "VPDMVcFwo-wv"
      },
      "source": [
        "## 3. Configure Your OpenAI API Key\n",
        "\n",
        "Set your OpenAI API key if it is not already set as an environment variable."
      ]
    },
    {
      "cell_type": "code",
      "execution_count": null,
      "metadata": {
        "id": "DIt6S1Kpo-wv"
      },
      "outputs": [],
      "source": [
        "if not (openai_api_key := os.getenv(\"OPENAI_API_KEY\")):\n",
        "    openai_api_key = getpass(\"\")\n",
        "openai.api_key = openai_api_key\n",
        "os.environ[\"OPENAI_API_KEY\"] = openai_api_key"
      ]
    },
    {
      "cell_type": "markdown",
      "metadata": {
        "id": "I-K4ruUJo-wv"
      },
      "source": [
        "## 3. Prepare reference data"
      ]
    },
    {
      "cell_type": "markdown",
      "metadata": {
        "id": "g-vqmdm1o-wv"
      },
      "source": [
        "First, we'll download a dataset that contains technical details of various digital cameras and convert it into an in-memory SQL database. This dataset is provided by Kaggle and more details can be found [here](https://www.kaggle.com/datasets/crawford/1000-cameras-dataset)."
      ]
    },
    {
      "cell_type": "code",
      "execution_count": null,
      "metadata": {
        "id": "gpFoDEgbo-wv"
      },
      "outputs": [],
      "source": [
        "camera_info = pd.read_parquet(\n",
        "    \"https://storage.googleapis.com/arize-phoenix-assets/datasets/structured/camera-info/cameras.parquet\"\n",
        ")"
      ]
    },
    {
      "cell_type": "code",
      "execution_count": null,
      "metadata": {
        "id": "HZYuZ8mGo-ww"
      },
      "outputs": [],
      "source": [
        "camera_info.head()"
      ]
    },
    {
      "cell_type": "code",
      "execution_count": null,
      "metadata": {
        "id": "r16trPXYo-ww"
      },
      "outputs": [],
      "source": [
        "engine = create_engine(\"sqlite:///:memory:\", future=True)\n",
        "camera_info.to_sql(\"cameras\", engine, index=False)"
      ]
    },
    {
      "cell_type": "code",
      "execution_count": null,
      "metadata": {
        "id": "SRwk3z0vo-ww"
      },
      "outputs": [],
      "source": [
        "with engine.connect() as connection:\n",
        "    result = connection.execute(text(\"SELECT * FROM cameras LIMIT 5\")).all()\n",
        "\n",
        "    for row in result:\n",
        "        print(row)"
      ]
    },
    {
      "cell_type": "markdown",
      "metadata": {
        "id": "L_rbDQxto-ww"
      },
      "source": [
        "Next, for more general queries about digital cameras, we'll download the Wikipedia page on Digital Cameras using the `wikipedia` SDK. We will convert this document into a LlamaIndex `VectorStoreIndex`."
      ]
    },
    {
      "cell_type": "code",
      "execution_count": null,
      "metadata": {
        "id": "bApsoZFuo-ww"
      },
      "outputs": [],
      "source": [
        "# load the Digital Camera wikipedia page\n",
        "page = wikipedia.page(pageid=52797)\n",
        "doc = Document(id_=page.pageid, text=page.content)\n",
        "\n",
        "vector_indices = []\n",
        "vector_index = VectorStoreIndex.from_documents([doc])\n",
        "vector_indices.append(vector_index)"
      ]
    },
    {
      "cell_type": "markdown",
      "metadata": {
        "id": "Vg3JCZ-Wo-ww"
      },
      "source": [
        "## 4. Build LlamaIndex Application\n",
        "\n",
        "Let's use a simple `RouterQueryEngine` using multiple query engine tools. We will either route to the SQL retriever or the vector index built over the \"Digital Camera\" Wikipedia page."
      ]
    },
    {
      "cell_type": "code",
      "execution_count": null,
      "metadata": {
        "id": "v-WuHjbRo-ww"
      },
      "outputs": [],
      "source": [
        "Settings.llm = OpenAI(temperature=0.0, model=\"gpt-4o\")"
      ]
    },
    {
      "cell_type": "code",
      "execution_count": null,
      "metadata": {
        "id": "Ar5UrpUqo-ww"
      },
      "outputs": [],
      "source": [
        "sql_database = SQLDatabase(engine, include_tables=[\"cameras\"])\n",
        "\n",
        "sql_query_engine = NLSQLTableQueryEngine(\n",
        "    sql_database=sql_database,\n",
        "    tables=[\"cameras\"],\n",
        ")\n",
        "sql_tool = QueryEngineTool.from_defaults(\n",
        "    query_engine=sql_query_engine,\n",
        "    description=(\n",
        "        \"Useful for translating a natural language query into a SQL query over\"\n",
        "        \" a table containing technical details about specific digital camera models: Model,\"\n",
        "        \" Release date, Max resolution, Low resolution, Effective pixels, Zoom wide (W),\"\n",
        "        \" Zoom tele (T), Normal focus range, Macro focus range, Storage included,\"\n",
        "        \" Weight (inc. batteries), Dimensions, Price\"\n",
        "    ),\n",
        ")\n",
        "\n",
        "vector_query_engines = [index.as_query_engine() for index in vector_indices]\n",
        "vector_tools = []\n",
        "for query_engine in vector_query_engines:\n",
        "    vector_tool = QueryEngineTool.from_defaults(\n",
        "        query_engine=query_engine,\n",
        "        description=\"Useful for answering generic questions about digital cameras.\",\n",
        "    )\n",
        "    vector_tools.append(vector_tool)"
      ]
    },
    {
      "cell_type": "code",
      "execution_count": null,
      "metadata": {
        "id": "mpBvii0po-ww"
      },
      "outputs": [],
      "source": [
        "query_engine = RouterQueryEngine(\n",
        "    selector=LLMSingleSelector.from_defaults(),\n",
        "    query_engine_tools=([sql_tool] + vector_tools),\n",
        ")"
      ]
    },
    {
      "cell_type": "markdown",
      "metadata": {
        "id": "xmNteQRIo-ww"
      },
      "source": [
        "## 5. Make Queries and Use Phoenix to view Spans"
      ]
    },
    {
      "cell_type": "code",
      "execution_count": null,
      "metadata": {
        "id": "ylbdi2X0o-ww"
      },
      "outputs": [],
      "source": [
        "response = query_engine.query(\"What is the most expensive digital camera?\")\n",
        "print(str(response))"
      ]
    },
    {
      "cell_type": "markdown",
      "metadata": {
        "id": "A7A11aP7o-ww"
      },
      "source": [
        "This query asked for specific details about a camera, and routed to the SQL retriever to get context for the response. The LLM-generated SQL can be seen in a Phoenix span.\n",
        "\n",
        "![A view of the Phoenix UI showing SQL retrieval](https://storage.googleapis.com/arize-phoenix-assets/assets/docs/notebooks/tracing/llama-index-sql-retrieval-tutorial/sql-retrieval.png)"
      ]
    },
    {
      "cell_type": "code",
      "execution_count": null,
      "metadata": {
        "id": "0GFvndiSo-ww"
      },
      "outputs": [],
      "source": [
        "response = query_engine.query(\"Tell me about the history of digital camera sensors.\")\n",
        "print(str(response))"
      ]
    },
    {
      "cell_type": "markdown",
      "metadata": {
        "id": "lkH2nS8uo-ww"
      },
      "source": [
        "More general queries are routed to the vector index.\n",
        "\n",
        "![A view of the Phoenix UI showing vector retrieval](https://storage.googleapis.com/arize-phoenix-assets/assets/docs/notebooks/tracing/llama-index-sql-retrieval-tutorial/vectorstoreindex-retrieval.png)"
      ]
    },
    {
      "cell_type": "markdown",
      "metadata": {
        "id": "e4va6oXPo-ww"
      },
      "source": [
        "## 6. Final Thoughts\n",
        "\n",
        "LLM Traces and the accompanying OpenInference Tracing specification is designed to be a category of telemetry data that is used to understand the execution of LLMs and the surrounding application context. This is especially useful when understanding the behavior of more complex RAG applications that might make use of multiple context retrieval strategies, such as mixing a SQL retriever with more-common vector indexes."
      ]
    },
    {
      "cell_type": "code",
      "source": [],
      "metadata": {
        "id": "Y5uHcNgtpmWv"
      },
      "execution_count": null,
      "outputs": []
    }
  ],
  "metadata": {
    "language_info": {
      "name": "python"
    },
    "colab": {
      "provenance": []
    }
  },
  "nbformat": 4,
  "nbformat_minor": 0
}